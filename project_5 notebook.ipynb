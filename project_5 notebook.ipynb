{
 "cells": [
  {
   "cell_type": "code",
   "execution_count": 23,
   "metadata": {
    "collapsed": false
   },
   "outputs": [],
   "source": [
    "import numpy as np\n",
    "import pandas as pd\n",
    "import matplotlib.pyplot as plt\n",
    "from patsy import dmatrices\n",
    "from sklearn.preprocessing import StandardScaler\n",
    "from sklearn.linear_model import LogisticRegression\n",
    "from sklearn.cross_validation import train_test_split, cross_val_score\n",
    "from sklearn.metrics import classification_report, confusion_matrix, roc_curve\n",
    "from sklearn.grid_search import GridSearchCV\n",
    "from sklearn.neighbors import KNeighborsClassifier\n",
    "import seaborn as sns\n",
    "%matplotlib inline"
   ]
  },
  {
   "cell_type": "markdown",
   "metadata": {},
   "source": [
    "## Pre-Task: Describe the goals of your study"
   ]
  },
  {
   "cell_type": "markdown",
   "metadata": {},
   "source": []
  },
  {
   "cell_type": "markdown",
   "metadata": {},
   "source": [
    "  "
   ]
  },
  {
   "cell_type": "markdown",
   "metadata": {},
   "source": [
    "## Part 1: Aquire the Data"
   ]
  },
  {
   "cell_type": "markdown",
   "metadata": {},
   "source": [
    "#### 1. Connect to the remote database, 2. Query the database and aggregate the data, 5. What are the risks and assumptions of our data?"
   ]
  },
  {
   "cell_type": "markdown",
   "metadata": {},
   "source": [
    "#### !!NOTE!! I experiened package configuration issues when approaching the SQL portion of this project and simply the read data in from the attached .csv file.  Patrick told me to just note this (done here!) and move on rather than retroactively inputing this from the remote DB."
   ]
  },
  {
   "cell_type": "markdown",
   "metadata": {},
   "source": [
    "Initial Reading in of the Data from the .csv file"
   ]
  },
  {
   "cell_type": "code",
   "execution_count": 24,
   "metadata": {
    "collapsed": false
   },
   "outputs": [],
   "source": [
    "data_raw = pd.DataFrame(pd.read_csv('train.csv'))"
   ]
  },
  {
   "cell_type": "markdown",
   "metadata": {},
   "source": [
    "## Part 2: Exploratory Data Analysis"
   ]
  },
  {
   "cell_type": "markdown",
   "metadata": {},
   "source": [
    "#### 1. Describe the Data"
   ]
  },
  {
   "cell_type": "code",
   "execution_count": 25,
   "metadata": {
    "collapsed": false
   },
   "outputs": [
    {
     "name": "stdout",
     "output_type": "stream",
     "text": [
      "891 PassengerId    397386.0000\n",
      "Survived          342.0000\n",
      "Pclass           2057.0000\n",
      "Age             21205.1700\n",
      "SibSp             466.0000\n",
      "Parch             340.0000\n",
      "Fare            28693.9493\n",
      "dtype: float64    PassengerId  Survived  Pclass  \\\n",
      "0            1         0       3   \n",
      "1            2         1       1   \n",
      "2            3         1       3   \n",
      "3            4         1       1   \n",
      "4            5         0       3   \n",
      "\n",
      "                                                Name     Sex   Age  SibSp  \\\n",
      "0                            Braund, Mr. Owen Harris    male  22.0      1   \n",
      "1  Cumings, Mrs. John Bradley (Florence Briggs Th...  female  38.0      1   \n",
      "2                             Heikkinen, Miss. Laina  female  26.0      0   \n",
      "3       Futrelle, Mrs. Jacques Heath (Lily May Peel)  female  35.0      1   \n",
      "4                           Allen, Mr. William Henry    male  35.0      0   \n",
      "\n",
      "   Parch            Ticket     Fare Cabin Embarked  \n",
      "0      0         A/5 21171   7.2500   NaN        S  \n",
      "1      0          PC 17599  71.2833   C85        C  \n",
      "2      0  STON/O2. 3101282   7.9250   NaN        S  \n",
      "3      0            113803  53.1000  C123        S  \n",
      "4      0            373450   8.0500   NaN        S   PassengerId      int64\n",
      "Survived         int64\n",
      "Pclass           int64\n",
      "Name            object\n",
      "Sex             object\n",
      "Age            float64\n",
      "SibSp            int64\n",
      "Parch            int64\n",
      "Ticket          object\n",
      "Fare           float64\n",
      "Cabin           object\n",
      "Embarked        object\n",
      "dtype: object        PassengerId    Survived      Pclass         Age       SibSp  \\\n",
      "count   891.000000  891.000000  891.000000  714.000000  891.000000   \n",
      "mean    446.000000    0.383838    2.308642   29.699118    0.523008   \n",
      "std     257.353842    0.486592    0.836071   14.526497    1.102743   \n",
      "min       1.000000    0.000000    1.000000    0.420000    0.000000   \n",
      "25%     223.500000    0.000000    2.000000   20.125000    0.000000   \n",
      "50%     446.000000    0.000000    3.000000   28.000000    0.000000   \n",
      "75%     668.500000    1.000000    3.000000   38.000000    1.000000   \n",
      "max     891.000000    1.000000    3.000000   80.000000    8.000000   \n",
      "\n",
      "            Parch        Fare  \n",
      "count  891.000000  891.000000  \n",
      "mean     0.381594   32.204208  \n",
      "std      0.806057   49.693429  \n",
      "min      0.000000    0.000000  \n",
      "25%      0.000000    7.910400  \n",
      "50%      0.000000   14.454200  \n",
      "75%      0.000000   31.000000  \n",
      "max      6.000000  512.329200  \n"
     ]
    }
   ],
   "source": [
    "print len(data_raw), \n",
    "print data_raw.sum(), \n",
    "print data_raw.head(), \n",
    "print data_raw.dtypes, \n",
    "print data_raw.describe()"
   ]
  },
  {
   "cell_type": "code",
   "execution_count": 11,
   "metadata": {
    "collapsed": false
   },
   "outputs": [
    {
     "data": {
      "text/plain": [
       "PassengerId      0\n",
       "Survived         0\n",
       "Pclass           0\n",
       "Name             0\n",
       "Sex              0\n",
       "Age            177\n",
       "SibSp            0\n",
       "Parch            0\n",
       "Ticket           0\n",
       "Fare             0\n",
       "Cabin          687\n",
       "Embarked         2\n",
       "dtype: int64"
      ]
     },
     "execution_count": 11,
     "metadata": {},
     "output_type": "execute_result"
    }
   ],
   "source": [
    "data_raw.isnull().sum()"
   ]
  },
  {
   "cell_type": "markdown",
   "metadata": {},
   "source": [
    "The data describes many characteristics of passengers on the Titanic (including their paid Fare, Class, Age, port of origin, their numer of siblings(if applicable), their number of children(if applicable), and a binary value indicating whether or not they survived the disaster itself.  The age column contails 177 null values, and the cabin contails 687 total null values... I plan on solving this by not using the Cabin value in my models, and dropping all passengers whose age is a null value as this will still give me enough information to model with w/o having to make intuitions."
   ]
  },
  {
   "cell_type": "markdown",
   "metadata": {},
   "source": [
    "#### 2. Visualize the Data"
   ]
  },
  {
   "cell_type": "markdown",
   "metadata": {},
   "source": [
    "histrogram of age, dropped NA age values"
   ]
  },
  {
   "cell_type": "code",
   "execution_count": 9,
   "metadata": {
    "collapsed": false
   },
   "outputs": [
    {
     "data": {
      "text/plain": [
       "(array([  54.,   46.,  177.,  169.,  118.,   70.,   45.,   24.,    9.,    2.]),\n",
       " array([  0.42 ,   8.378,  16.336,  24.294,  32.252,  40.21 ,  48.168,\n",
       "         56.126,  64.084,  72.042,  80.   ]),\n",
       " <a list of 10 Patch objects>)"
      ]
     },
     "execution_count": 9,
     "metadata": {},
     "output_type": "execute_result"
    },
    {
     "data": {
      "image/png": "[encoded data removed]",
      "text/plain": [
       "<matplotlib.figure.Figure at 0x11773c750>"
      ]
     },
     "metadata": {},
     "output_type": "display_data"
    }
   ],
   "source": [
    "age_hist = data_raw['Age'].sort_values()\n",
    "age_hist.dropna(inplace=True)\n",
    "plt.hist(age_hist)"
   ]
  },
  {
   "cell_type": "markdown",
   "metadata": {
    "collapsed": true
   },
   "source": [
    "plotting distribution of fare values with high value outliers removed (the outliers made it extremely difficult to view the patterns in the data)"
   ]
  },
  {
   "cell_type": "code",
   "execution_count": 12,
   "metadata": {
    "collapsed": false
   },
   "outputs": [
    {
     "data": {
      "text/plain": [
       "<matplotlib.axes._subplots.AxesSubplot at 0x117928610>"
      ]
     },
     "execution_count": 12,
     "metadata": {},
     "output_type": "execute_result"
    },
    {
     "data": {
      "image/png": "[encoded data removed]",
      "text/plain": [
       "<matplotlib.figure.Figure at 0x117d04950>"
      ]
     },
     "metadata": {},
     "output_type": "display_data"
    }
   ],
   "source": [
    "fare_hist = data_raw['Fare'].sort_values()\n",
    "fare_hist = fare_hist.where(fare_hist < 300).sort_values()\n",
    "fare_hist.dropna(inplace=True)\n",
    "sns.distplot(fare_hist, kde= False, bins = 100)"
   ]
  },
  {
   "cell_type": "markdown",
   "metadata": {},
   "source": [
    "## Part 3: Data Wrangling"
   ]
  },
  {
   "cell_type": "markdown",
   "metadata": {},
   "source": [
    "#### 1. Create Dummy Variables for *Sex* "
   ]
  },
  {
   "cell_type": "code",
   "execution_count": 26,
   "metadata": {
    "collapsed": false
   },
   "outputs": [],
   "source": [
    "sex_dummies = pd.get_dummies(data_raw['Sex'])\n",
    "data_raw= data_raw.drop(['Sex'], axis=1)\n",
    "data_raw = pd.concat([data_raw, sex_dummies], axis=1)"
   ]
  },
  {
   "cell_type": "markdown",
   "metadata": {
    "collapsed": true
   },
   "source": [
    "creating dummy variables for class & cleanning the non-predictive/null value columns from the data Frame"
   ]
  },
  {
   "cell_type": "code",
   "execution_count": 27,
   "metadata": {
    "collapsed": false
   },
   "outputs": [],
   "source": [
    "data_raw = data_raw.drop(['Cabin', 'Ticket', 'Name'], axis=1)\n",
    "class_dummies = pd.get_dummies(data_raw['Pclass'])\n",
    "data_raw = data_raw.drop(['Pclass'], axis=1)\n",
    "data_raw = pd.concat([data_raw, class_dummies], axis=1)"
   ]
  },
  {
   "cell_type": "markdown",
   "metadata": {},
   "source": [
    "dropping null values from the data frame as per above"
   ]
  },
  {
   "cell_type": "code",
   "execution_count": 28,
   "metadata": {
    "collapsed": true
   },
   "outputs": [],
   "source": [
    "data_raw.dropna(inplace=True)"
   ]
  },
  {
   "cell_type": "markdown",
   "metadata": {},
   "source": [
    "## Part 4: Logistic Regression and Model Validation"
   ]
  },
  {
   "cell_type": "markdown",
   "metadata": {},
   "source": [
    "#### 1. Define the variables that we will use in our classification analysis"
   ]
  },
  {
   "cell_type": "code",
   "execution_count": 33,
   "metadata": {
    "collapsed": true
   },
   "outputs": [],
   "source": [
    "mask = ['Age', 'SibSp', 'Parch', 'Fare', 'female', 'male', 1, 2, 3]\n",
    "X = data_raw[mask]"
   ]
  },
  {
   "cell_type": "markdown",
   "metadata": {},
   "source": [
    "#### 2. Transform \"Y\" into a 1-Dimensional Array for SciKit-Learn"
   ]
  },
  {
   "cell_type": "code",
   "execution_count": 34,
   "metadata": {
    "collapsed": true
   },
   "outputs": [],
   "source": [
    "y = data_raw['Survived']"
   ]
  },
  {
   "cell_type": "markdown",
   "metadata": {},
   "source": [
    "#### 3. Conduct the logistic regression"
   ]
  },
  {
   "cell_type": "code",
   "execution_count": 41,
   "metadata": {
    "collapsed": true
   },
   "outputs": [],
   "source": [
    "X_train, X_test, y_train, y_test = train_test_split(X, y)"
   ]
  },
  {
   "cell_type": "code",
   "execution_count": 46,
   "metadata": {
    "collapsed": false
   },
   "outputs": [
    {
     "data": {
      "text/plain": [
       "LogisticRegression(C=1.0, class_weight=None, dual=False, fit_intercept=True,\n",
       "          intercept_scaling=1, max_iter=100, multi_class='ovr', n_jobs=1,\n",
       "          penalty='l2', random_state=None, solver='liblinear', tol=0.0001,\n",
       "          verbose=0, warm_start=False)"
      ]
     },
     "execution_count": 46,
     "metadata": {},
     "output_type": "execute_result"
    }
   ],
   "source": [
    "lr = LogisticRegression()\n",
    "lr.fit(X_train, y_train)"
   ]
  },
  {
   "cell_type": "markdown",
   "metadata": {},
   "source": [
    "#### 4. Examine the coefficients to see our correlations"
   ]
  },
  {
   "cell_type": "code",
   "execution_count": 43,
   "metadata": {
    "collapsed": false,
    "scrolled": true
   },
   "outputs": [
    {
     "name": "stdout",
     "output_type": "stream",
     "text": [
      "Index([u'Age', u'SibSp', u'Parch', u'Fare', u'female', u'male', 1, 2, 3], dtype='object')\n"
     ]
    },
    {
     "data": {
      "text/plain": [
       "array([[-0.0393573 , -0.3695578 , -0.08118767,  0.00282379,  1.60056346,\n",
       "        -0.87456487,  1.47046273,  0.10575287, -0.85021701]])"
      ]
     },
     "execution_count": 43,
     "metadata": {},
     "output_type": "execute_result"
    }
   ],
   "source": [
    "print X.columns\n",
    "lr.coef_"
   ]
  },
  {
   "cell_type": "markdown",
   "metadata": {},
   "source": [
    "#### 6. Test the Model by introducing a *Test* or *Validaton* set "
   ]
  },
  {
   "cell_type": "code",
   "execution_count": 44,
   "metadata": {
    "collapsed": false
   },
   "outputs": [
    {
     "data": {
      "text/plain": [
       "0.8146067415730337"
      ]
     },
     "execution_count": 44,
     "metadata": {},
     "output_type": "execute_result"
    }
   ],
   "source": [
    "lr.score(X_test, y_test)"
   ]
  },
  {
   "cell_type": "markdown",
   "metadata": {},
   "source": [
    "#### 7. Predict the class labels for the *Test* set"
   ]
  },
  {
   "cell_type": "code",
   "execution_count": 47,
   "metadata": {
    "collapsed": false
   },
   "outputs": [
    {
     "data": {
      "text/plain": [
       "array([0, 0, 1, 1, 1, 0, 0, 1, 0, 1, 0, 0, 1, 0, 0, 1, 1, 0, 0, 0, 1, 1, 0,\n",
       "       1, 0, 1, 1, 0, 0, 0, 1, 0, 0, 1, 0, 0, 0, 0, 1, 0, 0, 0, 0, 1, 0, 1,\n",
       "       0, 0, 0, 0, 1, 0, 0, 0, 0, 1, 0, 0, 1, 1, 0, 0, 0, 1, 0, 0, 1, 0, 0,\n",
       "       0, 1, 1, 0, 0, 0, 1, 0, 0, 0, 1, 0, 0, 0, 0, 0, 1, 0, 0, 0, 1, 1, 1,\n",
       "       0, 0, 0, 0, 1, 0, 1, 0, 0, 0, 1, 0, 0, 0, 0, 0, 1, 0, 1, 0, 0, 1, 0,\n",
       "       0, 0, 1, 1, 0, 1, 0, 0, 0, 1, 0, 0, 1, 1, 0, 0, 0, 1, 0, 0, 1, 0, 0,\n",
       "       0, 0, 0, 1, 1, 0, 0, 1, 0, 0, 1, 1, 1, 0, 1, 0, 1, 1, 0, 0, 0, 0, 0,\n",
       "       1, 0, 1, 0, 0, 1, 1, 1, 0, 0, 0, 0, 0, 0, 0, 0, 1])"
      ]
     },
     "execution_count": 47,
     "metadata": {},
     "output_type": "execute_result"
    }
   ],
   "source": [
    "lr.predict(X_test)"
   ]
  },
  {
   "cell_type": "markdown",
   "metadata": {},
   "source": [
    "#### 8. Predict the class probabilities for the *Test* set"
   ]
  },
  {
   "cell_type": "code",
   "execution_count": 49,
   "metadata": {
    "collapsed": false
   },
   "outputs": [
    {
     "data": {
      "text/plain": [
       "array([[ 0.94257832,  0.05742168],\n",
       "       [ 0.89954901,  0.10045099],\n",
       "       [ 0.09231614,  0.90768386],\n",
       "       [ 0.11544819,  0.88455181],\n",
       "       [ 0.43026048,  0.56973952],\n",
       "       [ 0.55999778,  0.44000222],\n",
       "       [ 0.85850257,  0.14149743],\n",
       "       [ 0.24530406,  0.75469594],\n",
       "       [ 0.89591861,  0.10408139],\n",
       "       [ 0.36429739,  0.63570261],\n",
       "       [ 0.80585836,  0.19414164],\n",
       "       [ 0.69068802,  0.30931198],\n",
       "       [ 0.44961607,  0.55038393],\n",
       "       [ 0.93829122,  0.06170878],\n",
       "       [ 0.68156047,  0.31843953],\n",
       "       [ 0.17311296,  0.82688704],\n",
       "       [ 0.26129611,  0.73870389],\n",
       "       [ 0.90095202,  0.09904798],\n",
       "       [ 0.86780686,  0.13219314],\n",
       "       [ 0.56017407,  0.43982593],\n",
       "       [ 0.21168719,  0.78831281],\n",
       "       [ 0.4882027 ,  0.5117973 ],\n",
       "       [ 0.9134401 ,  0.0865599 ],\n",
       "       [ 0.05679037,  0.94320963],\n",
       "       [ 0.80069905,  0.19930095],\n",
       "       [ 0.05857638,  0.94142362],\n",
       "       [ 0.10091642,  0.89908358],\n",
       "       [ 0.61615965,  0.38384035],\n",
       "       [ 0.72403588,  0.27596412],\n",
       "       [ 0.50511325,  0.49488675],\n",
       "       [ 0.43407399,  0.56592601],\n",
       "       [ 0.88309425,  0.11690575],\n",
       "       [ 0.75925934,  0.24074066],\n",
       "       [ 0.28727447,  0.71272553],\n",
       "       [ 0.56486777,  0.43513223],\n",
       "       [ 0.8951587 ,  0.1048413 ],\n",
       "       [ 0.84858357,  0.15141643],\n",
       "       [ 0.56276605,  0.43723395],\n",
       "       [ 0.31236621,  0.68763379],\n",
       "       [ 0.91025786,  0.08974214],\n",
       "       [ 0.92080363,  0.07919637],\n",
       "       [ 0.8236157 ,  0.1763843 ],\n",
       "       [ 0.87220834,  0.12779166],\n",
       "       [ 0.08449241,  0.91550759],\n",
       "       [ 0.94361552,  0.05638448],\n",
       "       [ 0.25881029,  0.74118971],\n",
       "       [ 0.70987963,  0.29012037],\n",
       "       [ 0.86344964,  0.13655036],\n",
       "       [ 0.97167079,  0.02832921],\n",
       "       [ 0.85850257,  0.14149743],\n",
       "       [ 0.05509041,  0.94490959],\n",
       "       [ 0.50023971,  0.49976029],\n",
       "       [ 0.75177633,  0.24822367],\n",
       "       [ 0.78118704,  0.21881296],\n",
       "       [ 0.85856831,  0.14143169],\n",
       "       [ 0.14220124,  0.85779876],\n",
       "       [ 0.89650957,  0.10349043],\n",
       "       [ 0.86221549,  0.13778451],\n",
       "       [ 0.0500242 ,  0.9499758 ],\n",
       "       [ 0.03359814,  0.96640186],\n",
       "       [ 0.67792362,  0.32207638],\n",
       "       [ 0.63502396,  0.36497604],\n",
       "       [ 0.85845968,  0.14154032],\n",
       "       [ 0.10493256,  0.89506744],\n",
       "       [ 0.70619197,  0.29380803],\n",
       "       [ 0.89266539,  0.10733461],\n",
       "       [ 0.10453354,  0.89546646],\n",
       "       [ 0.91281314,  0.08718686],\n",
       "       [ 0.94217761,  0.05782239],\n",
       "       [ 0.91201034,  0.08798966],\n",
       "       [ 0.11401379,  0.88598621],\n",
       "       [ 0.08178967,  0.91821033],\n",
       "       [ 0.91875786,  0.08124214],\n",
       "       [ 0.75813829,  0.24186171],\n",
       "       [ 0.90343941,  0.09656059],\n",
       "       [ 0.49009263,  0.50990737],\n",
       "       [ 0.91004627,  0.08995373],\n",
       "       [ 0.88080949,  0.11919051],\n",
       "       [ 0.86317473,  0.13682527],\n",
       "       [ 0.46375538,  0.53624462],\n",
       "       [ 0.592476  ,  0.407524  ],\n",
       "       [ 0.73816512,  0.26183488],\n",
       "       [ 0.76033652,  0.23966348],\n",
       "       [ 0.83236389,  0.16763611],\n",
       "       [ 0.57177527,  0.42822473],\n",
       "       [ 0.47941986,  0.52058014],\n",
       "       [ 0.87238267,  0.12761733],\n",
       "       [ 0.89407976,  0.10592024],\n",
       "       [ 0.87683653,  0.12316347],\n",
       "       [ 0.22561444,  0.77438556],\n",
       "       [ 0.3734592 ,  0.6265408 ],\n",
       "       [ 0.14704794,  0.85295206],\n",
       "       [ 0.94391472,  0.05608528],\n",
       "       [ 0.54737381,  0.45262619],\n",
       "       [ 0.84626824,  0.15373176],\n",
       "       [ 0.89098911,  0.10901089],\n",
       "       [ 0.04453583,  0.95546417],\n",
       "       [ 0.89629979,  0.10370021],\n",
       "       [ 0.27187826,  0.72812174],\n",
       "       [ 0.63139645,  0.36860355],\n",
       "       [ 0.51561016,  0.48438984],\n",
       "       [ 0.892191  ,  0.107809  ],\n",
       "       [ 0.07966421,  0.92033579],\n",
       "       [ 0.90476311,  0.09523689],\n",
       "       [ 0.6692164 ,  0.3307836 ],\n",
       "       [ 0.92439361,  0.07560639],\n",
       "       [ 0.88879504,  0.11120496],\n",
       "       [ 0.72121854,  0.27878146],\n",
       "       [ 0.445335  ,  0.554665  ],\n",
       "       [ 0.54341985,  0.45658015],\n",
       "       [ 0.49515953,  0.50484047],\n",
       "       [ 0.87252275,  0.12747725],\n",
       "       [ 0.884646  ,  0.115354  ],\n",
       "       [ 0.02360866,  0.97639134],\n",
       "       [ 0.93516213,  0.06483787],\n",
       "       [ 0.85756032,  0.14243968],\n",
       "       [ 0.60591265,  0.39408735],\n",
       "       [ 0.33272464,  0.66727536],\n",
       "       [ 0.16308358,  0.83691642],\n",
       "       [ 0.67233638,  0.32766362],\n",
       "       [ 0.2699623 ,  0.7300377 ],\n",
       "       [ 0.86344824,  0.13655176],\n",
       "       [ 0.84340406,  0.15659594],\n",
       "       [ 0.93748376,  0.06251624],\n",
       "       [ 0.32064581,  0.67935419],\n",
       "       [ 0.66493216,  0.33506784],\n",
       "       [ 0.83746836,  0.16253164],\n",
       "       [ 0.24243922,  0.75756078],\n",
       "       [ 0.40584302,  0.59415698],\n",
       "       [ 0.60631038,  0.39368962],\n",
       "       [ 0.79128402,  0.20871598],\n",
       "       [ 0.64409715,  0.35590285],\n",
       "       [ 0.04172838,  0.95827162],\n",
       "       [ 0.85367879,  0.14632121],\n",
       "       [ 0.92586548,  0.07413452],\n",
       "       [ 0.37416234,  0.62583766],\n",
       "       [ 0.87965166,  0.12034834],\n",
       "       [ 0.96475132,  0.03524868],\n",
       "       [ 0.87665345,  0.12334655],\n",
       "       [ 0.87683653,  0.12316347],\n",
       "       [ 0.93915939,  0.06084061],\n",
       "       [ 0.45145899,  0.54854101],\n",
       "       [ 0.30173796,  0.69826204],\n",
       "       [ 0.94098517,  0.05901483],\n",
       "       [ 0.85567597,  0.14432403],\n",
       "       [ 0.38968911,  0.61031089],\n",
       "       [ 0.86348293,  0.13651707],\n",
       "       [ 0.84349727,  0.15650273],\n",
       "       [ 0.35964116,  0.64035884],\n",
       "       [ 0.26026973,  0.73973027],\n",
       "       [ 0.40908796,  0.59091204],\n",
       "       [ 0.79318838,  0.20681162],\n",
       "       [ 0.46292111,  0.53707889],\n",
       "       [ 0.91342335,  0.08657665],\n",
       "       [ 0.20652728,  0.79347272],\n",
       "       [ 0.23190268,  0.76809732],\n",
       "       [ 0.59442416,  0.40557584],\n",
       "       [ 0.75309134,  0.24690866],\n",
       "       [ 0.90680879,  0.09319121],\n",
       "       [ 0.90904339,  0.09095661],\n",
       "       [ 0.68608256,  0.31391744],\n",
       "       [ 0.32405591,  0.67594409],\n",
       "       [ 0.68156047,  0.31843953],\n",
       "       [ 0.3640087 ,  0.6359913 ],\n",
       "       [ 0.73256685,  0.26743315],\n",
       "       [ 0.71327063,  0.28672937],\n",
       "       [ 0.11617046,  0.88382954],\n",
       "       [ 0.31162317,  0.68837683],\n",
       "       [ 0.33627225,  0.66372775],\n",
       "       [ 0.92342416,  0.07657584],\n",
       "       [ 0.91801265,  0.08198735],\n",
       "       [ 0.91107023,  0.08892977],\n",
       "       [ 0.90147565,  0.09852435],\n",
       "       [ 0.88282667,  0.11717333],\n",
       "       [ 0.592476  ,  0.407524  ],\n",
       "       [ 0.85016058,  0.14983942],\n",
       "       [ 0.90342197,  0.09657803],\n",
       "       [ 0.05120533,  0.94879467]])"
      ]
     },
     "execution_count": 49,
     "metadata": {},
     "output_type": "execute_result"
    }
   ],
   "source": [
    "lr.predict_proba(X_test)"
   ]
  },
  {
   "cell_type": "markdown",
   "metadata": {},
   "source": [
    "#### 9./10. Evaluate the *Test* set (did so above and through Cross Validation)"
   ]
  },
  {
   "cell_type": "code",
   "execution_count": 50,
   "metadata": {
    "collapsed": false
   },
   "outputs": [
    {
     "data": {
      "text/plain": [
       "array([ 0.76223776,  0.83216783,  0.76223776,  0.76056338,  0.82269504])"
      ]
     },
     "execution_count": 50,
     "metadata": {},
     "output_type": "execute_result"
    }
   ],
   "source": [
    "cross_val_score(lr, X, y, cv=5)"
   ]
  },
  {
   "cell_type": "markdown",
   "metadata": {},
   "source": [
    "#### 11. Check the Classification Report"
   ]
  },
  {
   "cell_type": "code",
   "execution_count": 67,
   "metadata": {
    "collapsed": false
   },
   "outputs": [
    {
     "name": "stdout",
     "output_type": "stream",
     "text": [
      "             precision    recall  f1-score   support\n",
      "\n",
      "          0       0.80      0.90      0.85       104\n",
      "          1       0.84      0.69      0.76        74\n",
      "\n",
      "avg / total       0.82      0.81      0.81       178\n",
      "\n"
     ]
    }
   ],
   "source": [
    "print classification_report(y_test, logreg_preds)"
   ]
  },
  {
   "cell_type": "markdown",
   "metadata": {},
   "source": [
    "#### 12. What do the classification metrics tell us?"
   ]
  },
  {
   "cell_type": "markdown",
   "metadata": {},
   "source": [
    "The classification metrics give us a variety of information regarding the ability of our models to accurately predict whether or not a given passenged on the Titanic died.  The precision is calculated by measuring the the True Positives(TP)/all predictived positives (TP + False Positives(FP)).  Practically speaking, this is an indicator of our model's ability to minimize False Positives.  \n",
    "\n",
    "The Recall Value measures our ability to minimize False Negatives and is calculated much the same way as precision (TN/TN+FN).  \n",
    "\n",
    "The F1 score is a statistic that uses both the precision and recall to make a weighted score for how our model performs (respective to the classication categories).  \n",
    "\n",
    "Using these scores I am able to say that my model is overly optimistic(or pessimistic in this case, womp...) in predicting that a passenger on the Titanic died and could be improved by prediciting more passenger survival.  Conversely, my model has a very strong recall score in regards to predicting if a passenger died.  This intuitively makes sens as more people died on the Titanic than survived.   "
   ]
  },
  {
   "cell_type": "markdown",
   "metadata": {},
   "source": [
    "#### 13. Check the Confusion Matrix"
   ]
  },
  {
   "cell_type": "code",
   "execution_count": 54,
   "metadata": {
    "collapsed": false
   },
   "outputs": [
    {
     "name": "stdout",
     "output_type": "stream",
     "text": [
      "[[94 10]\n",
      " [23 51]]\n"
     ]
    }
   ],
   "source": [
    "print confusion_matrix(y_test, logreg_preds)"
   ]
  },
  {
   "cell_type": "markdown",
   "metadata": {},
   "source": [
    "#### 14. What does the Confusion Matrix tell us? "
   ]
  },
  {
   "cell_type": "markdown",
   "metadata": {},
   "source": [
    "The confusion matrix gives the number of false negatives, false positives, true negatives, and true positives when running the model on a test set of data.  These scores are used to calculate the recall, precision, and f1 values above.  My model in this case accurately predicted (on the test set) that 94 people died and 51 survived, while incorrectly predicting that 10 people survived and 23 did not.  "
   ]
  },
  {
   "cell_type": "markdown",
   "metadata": {},
   "source": [
    "#### 15. Plot the ROC curve"
   ]
  },
  {
   "cell_type": "code",
   "execution_count": 72,
   "metadata": {
    "collapsed": false
   },
   "outputs": [
    {
     "data": {
      "image/png": "[encoded data removed]",
      "text/plain": [
       "<matplotlib.figure.Figure at 0x119028450>"
      ]
     },
     "metadata": {},
     "output_type": "display_data"
    }
   ],
   "source": [
    "proba = lr.predict_proba(X_test)\n",
    "fpr, tpr, thresholds = roc_curve(y_test, proba[:,1])\n",
    "\n",
    "plt.figure()\n",
    "plt.plot(fpr, tpr, label= 'ROC Curve')\n",
    "plt.plot([0, 1], [0, 1], 'k--')\n",
    "plt.xlabel('False Positive Rate')\n",
    "plt.ylabel('True Positive Rate')\n",
    "plt.title('ROC Curve of LogReg Model')\n",
    "plt.show()"
   ]
  },
  {
   "cell_type": "markdown",
   "metadata": {},
   "source": [
    "#### 16. What does the ROC curve tell us?"
   ]
  },
  {
   "cell_type": "markdown",
   "metadata": {},
   "source": [
    "The ROC Curve is a visualization of the accuracy of a given model which is exhibited through plotting the FPR vs. the TPR.  a perfect model would hug the y-axis until it reached top of the constraints, and would then hug the top of the constraint across the x-axis.  "
   ]
  },
  {
   "cell_type": "markdown",
   "metadata": {},
   "source": [
    "## Part 5: Gridsearch"
   ]
  },
  {
   "cell_type": "markdown",
   "metadata": {},
   "source": [
    "#### 1. Use GridSearchCV with logistic regression to search for optimal parameters \n",
    "\n",
    "- Use the provided parameter grid. Feel free to add if you like (such as n_jobs).\n",
    "- Use 5-fold cross-validation."
   ]
  },
  {
   "cell_type": "code",
   "execution_count": 56,
   "metadata": {
    "collapsed": true
   },
   "outputs": [],
   "source": [
    "logreg_parameters = {\n",
    "    'penalty':['l1','l2'],\n",
    "    'C':np.logspace(-5,1,50),\n",
    "    'solver':['liblinear']}"
   ]
  },
  {
   "cell_type": "code",
   "execution_count": 57,
   "metadata": {
    "collapsed": false
   },
   "outputs": [
    {
     "data": {
      "text/plain": [
       "GridSearchCV(cv=5, error_score='raise',\n",
       "       estimator=LogisticRegression(C=1.0, class_weight=None, dual=False, fit_intercept=True,\n",
       "          intercept_scaling=1, max_iter=100, multi_class='ovr', n_jobs=1,\n",
       "          penalty='l2', random_state=None, solver='liblinear', tol=0.0001,\n",
       "          verbose=0, warm_start=False),\n",
       "       fit_params={}, iid=True, n_jobs=1,\n",
       "       param_grid={'penalty': ['l1', 'l2'], 'C': array([  1.00000e-05,   1.32571e-05,   1.75751e-05,   2.32995e-05,\n",
       "         3.08884e-05,   4.09492e-05,   5.42868e-05,   7.19686e-05,\n",
       "         9.54095e-05,   1.26486e-04,   1.67683e-04,   2.22300e-04,\n",
       "         2.94705e-04,   3.90694e-04,   5.17947e-04,   6.8...6e+00,   4.29193e+00,   5.68987e+00,\n",
       "         7.54312e+00,   1.00000e+01]), 'solver': ['liblinear']},\n",
       "       pre_dispatch='2*n_jobs', refit=True, scoring=None, verbose=0)"
      ]
     },
     "execution_count": 57,
     "metadata": {},
     "output_type": "execute_result"
    }
   ],
   "source": [
    "classifier = LogisticRegression()\n",
    "gridsearch = GridSearchCV(classifier, logreg_parameters, cv=5)\n",
    "gridsearch.fit(X, y)"
   ]
  },
  {
   "cell_type": "markdown",
   "metadata": {},
   "source": [
    "#### 2. Print out the best parameters and best score. Are they better than the vanilla logistic regression?"
   ]
  },
  {
   "cell_type": "code",
   "execution_count": 60,
   "metadata": {
    "collapsed": false
   },
   "outputs": [
    {
     "name": "stdout",
     "output_type": "stream",
     "text": [
      "{'penalty': 'l2', 'C': 0.035564803062231289, 'solver': 'liblinear'}\n"
     ]
    },
    {
     "data": {
      "text/plain": [
       "0.7893258426966292"
      ]
     },
     "execution_count": 60,
     "metadata": {},
     "output_type": "execute_result"
    }
   ],
   "source": [
    "print gridsearch.best_params_\n",
    "gridsearch.best_score_"
   ]
  },
  {
   "cell_type": "markdown",
   "metadata": {},
   "source": [
    "#### 3. Explain the difference between the difference between the L1 (Lasso) and L2 (Ridge) penalties on the model coefficients."
   ]
  },
  {
   "cell_type": "markdown",
   "metadata": {},
   "source": [
    "L1 (Lasso) coefficent regularization uses a coefficient penalty that is the absolute values of the coefficients & allows the coefficents to move towards a 0 value.  This is useful for helping to eliminate Type 1 errors aka false positives.  \n",
    "\n",
    "L2(Ridge) uses a the sume of the squares of the coefficients as a penalty, and does not allow the coefficients to move towards zero.  This helps negate type 2 errors aka false negatives.  "
   ]
  },
  {
   "cell_type": "markdown",
   "metadata": {},
   "source": [
    "#### 4. What hypothetical situations are the Ridge and Lasso penalties useful?"
   ]
  },
  {
   "cell_type": "markdown",
   "metadata": {},
   "source": [
    "Lasso is useful to help models which have a high number of outliers in the predictive variables.  As above, Lasso regression is useful to eliminate type 1 errors, while Ride is useful for eliminating type 2 errors.  "
   ]
  },
  {
   "cell_type": "markdown",
   "metadata": {},
   "source": [
    "## Part 6: Gridsearch and kNN"
   ]
  },
  {
   "cell_type": "markdown",
   "metadata": {},
   "source": [
    "#### 1. Perform Gridsearch for the same classification problem as above, but use KNeighborsClassifier as your estimator\n",
    "\n",
    "At least have number of neighbors and weights in your parameters dictionary."
   ]
  },
  {
   "cell_type": "code",
   "execution_count": 63,
   "metadata": {
    "collapsed": false
   },
   "outputs": [
    {
     "data": {
      "text/plain": [
       "GridSearchCV(cv=5, error_score='raise',\n",
       "       estimator=KNeighborsClassifier(algorithm='auto', leaf_size=30, metric='minkowski',\n",
       "           metric_params=None, n_jobs=1, n_neighbors=5, p=2,\n",
       "           weights='uniform'),\n",
       "       fit_params={}, iid=True, n_jobs=1,\n",
       "       param_grid={'n_neighbors': [1, 2, 3, 4, 5, 6, 7, 8, 9, 10, 11, 12, 13, 14, 15, 16, 17, 18, 19, 20, 21, 22, 23, 24, 25, 26, 27, 28, 29, 30, 31, 32, 33, 34, 35, 36, 37, 38, 39, 40, 41, 42, 43, 44, 45, 46, 47, 48, 49, 50], 'weights': ['uniform', 'distance']},\n",
       "       pre_dispatch='2*n_jobs', refit=True, scoring=None, verbose=0)"
      ]
     },
     "execution_count": 63,
     "metadata": {},
     "output_type": "execute_result"
    }
   ],
   "source": [
    "kvals = range(1,51)\n",
    "neigh_parameters = {'n_neighbors':kvals, 'weights':['uniform','distance']}\n",
    "\n",
    "neigh = KNeighborsClassifier()\n",
    "neighbors_gridsearch = GridSearchCV(neigh, neigh_parameters, cv=5)\n",
    "neighbors_gridsearch.fit(X, y)"
   ]
  },
  {
   "cell_type": "markdown",
   "metadata": {},
   "source": [
    "#### 2. Print the best parameters and score for the gridsearched kNN model. How does it compare to the logistic regression model?"
   ]
  },
  {
   "cell_type": "code",
   "execution_count": 65,
   "metadata": {
    "collapsed": false
   },
   "outputs": [
    {
     "name": "stdout",
     "output_type": "stream",
     "text": [
      "0.709269662921\n"
     ]
    },
    {
     "data": {
      "text/plain": [
       "{'n_neighbors': 22, 'weights': 'uniform'}"
      ]
     },
     "execution_count": 65,
     "metadata": {},
     "output_type": "execute_result"
    }
   ],
   "source": [
    "print neighbors_gridsearch.best_score_\n",
    "neighbors_gridsearch.best_params_"
   ]
  },
  {
   "cell_type": "markdown",
   "metadata": {},
   "source": [
    "#### 3. How does the number of neighbors affect the bias-variance tradeoff of your model? [BONUS] Why?"
   ]
  },
  {
   "cell_type": "markdown",
   "metadata": {
    "collapsed": true
   },
   "source": [
    "A KNN Classification model with n_neighbors = 1 is a model with very high variance.  This is because the model's decision making parameters would need to be very irregular to accomodate a high degree of variability when making predictions.  As n_neighbors increases, the predictive value of a single point decreases and allows for a smoother decision boundry and a decrease in the variance of your model.  "
   ]
  },
  {
   "cell_type": "markdown",
   "metadata": {},
   "source": [
    "#### 4. In what hypothetical scenario(s) might you prefer logistic regression over kNN, aside from model performance metrics?"
   ]
  },
  {
   "cell_type": "markdown",
   "metadata": {
    "collapsed": true
   },
   "source": [
    "KNN is useful when your model skews towards primarily classification (compared to linear) variables.  Logistic regression is better when the predictive variables are primarily linear values.  "
   ]
  },
  {
   "cell_type": "markdown",
   "metadata": {},
   "source": [
    "#### 5. Fit a new kNN model with the optimal parameters found in gridsearch. "
   ]
  },
  {
   "cell_type": "code",
   "execution_count": 76,
   "metadata": {
    "collapsed": false,
    "scrolled": true
   },
   "outputs": [
    {
     "data": {
      "text/plain": [
       "KNeighborsClassifier(algorithm='auto', leaf_size=30, metric='minkowski',\n",
       "           metric_params=None, n_jobs=1, n_neighbors=22, p=2,\n",
       "           weights='uniform')"
      ]
     },
     "execution_count": 76,
     "metadata": {},
     "output_type": "execute_result"
    }
   ],
   "source": [
    "neigh2 = KNeighborsClassifier(n_neighbors=22, weights='uniform')\n",
    "neigh2.fit(X, y)"
   ]
  },
  {
   "cell_type": "markdown",
   "metadata": {},
   "source": [
    "#### 6. Construct the confusion matrix for the optimal kNN model. Is it different from the logistic regression model? If so, how?"
   ]
  },
  {
   "cell_type": "code",
   "execution_count": 84,
   "metadata": {
    "collapsed": false
   },
   "outputs": [
    {
     "name": "stdout",
     "output_type": "stream",
     "text": [
      "0.674157303371\n",
      "[[85 19]\n",
      " [39 35]]\n"
     ]
    }
   ],
   "source": [
    "neigh2.fit(X_train, y_train)\n",
    "knn_preds = neigh2.predict(X_test)\n",
    "matrix = confusion_matrix(y_test, knn_preds)\n",
    "print neigh2.score(X_test, y_test)\n",
    "print matrix"
   ]
  },
  {
   "cell_type": "markdown",
   "metadata": {},
   "source": [
    "The confusion matrix for the optimized KNN model performs more poorly than my original model.  This is most likely due to the fact that the most important predictive variable (fare) was the best predictor, and was not used as efficiently in the KNN model.  The matrix shows an increase in both false negatives and false positives.  "
   ]
  }
 ],
 "metadata": {
  "kernelspec": {
   "display_name": "Python 2",
   "language": "python",
   "name": "python2"
  },
  "language_info": {
   "codemirror_mode": {
    "name": "ipython",
    "version": 2
   },
   "file_extension": ".py",
   "mimetype": "text/x-python",
   "name": "python",
   "nbconvert_exporter": "python",
   "pygments_lexer": "ipython2",
   "version": "2.7.11"
  }
 },
 "nbformat": 4,
 "nbformat_minor": 0
}
